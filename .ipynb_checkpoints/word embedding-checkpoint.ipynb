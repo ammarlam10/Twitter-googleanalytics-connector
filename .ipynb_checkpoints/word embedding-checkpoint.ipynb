{
 "cells": [
  {
   "cell_type": "code",
   "execution_count": 20,
   "metadata": {},
   "outputs": [
    {
     "name": "stdout",
     "output_type": "stream",
     "text": [
      "-0.5403539421278024\n"
     ]
    }
   ],
   "source": [
    "from gensim.models import Word2Vec\n",
    "\n",
    "sentences = [['I', 'study', 'at', 'IBA','enjoy'],\n",
    "             ['I', 'dont', 'like', 'it', 'here'],\n",
    "             ['Fuck', 'Hisham', 'Ammar', 'osama'],\n",
    "             ['cat', 'eats', 'the', 'rat','hate'],\n",
    "             ['Im','having','fun']\n",
    "            ]\n",
    "\n",
    "model = Word2Vec(sentences, min_count=1, size=3)\n",
    "\n",
    "print(model.wv.similarity('enjoy', 'fun'))\n"
   ]
  },
  {
   "cell_type": "code",
   "execution_count": null,
   "metadata": {},
   "outputs": [],
   "source": [
    "model.wv.doesnt_match(\"breakfast cereal dinner lunch\".split())"
   ]
  },
  {
   "cell_type": "code",
   "execution_count": null,
   "metadata": {},
   "outputs": [],
   "source": []
  },
  {
   "cell_type": "code",
   "execution_count": null,
   "metadata": {},
   "outputs": [],
   "source": []
  }
 ],
 "metadata": {
  "kernelspec": {
   "display_name": "Python 2",
   "language": "python",
   "name": "python2"
  },
  "language_info": {
   "codemirror_mode": {
    "name": "ipython",
    "version": 2
   },
   "file_extension": ".py",
   "mimetype": "text/x-python",
   "name": "python",
   "nbconvert_exporter": "python",
   "pygments_lexer": "ipython2",
   "version": "2.7.12"
  }
 },
 "nbformat": 4,
 "nbformat_minor": 2
}
