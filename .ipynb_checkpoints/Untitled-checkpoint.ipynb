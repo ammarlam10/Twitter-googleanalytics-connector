{
 "cells": [
  {
   "cell_type": "code",
   "execution_count": 29,
   "metadata": {},
   "outputs": [],
   "source": [
    "import pandas as pd"
   ]
  },
  {
   "cell_type": "code",
   "execution_count": 34,
   "metadata": {},
   "outputs": [],
   "source": [
    "df = pd.read_csv('/home/ammar/gir_repo/marketlytics/tweets.csv')"
   ]
  },
  {
   "cell_type": "code",
   "execution_count": 35,
   "metadata": {},
   "outputs": [
    {
     "data": {
      "text/html": [
       "<div>\n",
       "<style scoped>\n",
       "    .dataframe tbody tr th:only-of-type {\n",
       "        vertical-align: middle;\n",
       "    }\n",
       "\n",
       "    .dataframe tbody tr th {\n",
       "        vertical-align: top;\n",
       "    }\n",
       "\n",
       "    .dataframe thead th {\n",
       "        text-align: right;\n",
       "    }\n",
       "</style>\n",
       "<table border=\"1\" class=\"dataframe\">\n",
       "  <thead>\n",
       "    <tr style=\"text-align: right;\">\n",
       "      <th></th>\n",
       "      <th>eventCategory</th>\n",
       "      <th>eventAction</th>\n",
       "      <th>eventLabel</th>\n",
       "      <th>totalEvents</th>\n",
       "      <th>eventValue</th>\n",
       "    </tr>\n",
       "  </thead>\n",
       "  <tbody>\n",
       "    <tr>\n",
       "      <th>0</th>\n",
       "      <td>game</td>\n",
       "      <td>start</td>\n",
       "      <td>test</td>\n",
       "      <td>3</td>\n",
       "      <td>0</td>\n",
       "    </tr>\n",
       "    <tr>\n",
       "      <th>1</th>\n",
       "      <td>tweet</td>\n",
       "      <td>#dance #bad #miss #me #lol #funny #gracie (Vin...</td>\n",
       "      <td>@mainedcm</td>\n",
       "      <td>1</td>\n",
       "      <td>7</td>\n",
       "    </tr>\n",
       "    <tr>\n",
       "      <th>2</th>\n",
       "      <td>tweet</td>\n",
       "      <td>#dance #bad #miss #me #lol #funny #gracie (Vin...</td>\n",
       "      <td>none</td>\n",
       "      <td>1</td>\n",
       "      <td>7</td>\n",
       "    </tr>\n",
       "    <tr>\n",
       "      <th>3</th>\n",
       "      <td>tweet</td>\n",
       "      <td>#lol https://t.co/uTq0P40u1J</td>\n",
       "      <td>none</td>\n",
       "      <td>1</td>\n",
       "      <td>1</td>\n",
       "    </tr>\n",
       "    <tr>\n",
       "      <th>4</th>\n",
       "      <td>tweet</td>\n",
       "      <td>@Calicuzn @NBA And of course with helped from ...</td>\n",
       "      <td>@NBA</td>\n",
       "      <td>1</td>\n",
       "      <td>2</td>\n",
       "    </tr>\n",
       "  </tbody>\n",
       "</table>\n",
       "</div>"
      ],
      "text/plain": [
       "  eventCategory                                        eventAction eventLabel  \\\n",
       "0          game                                              start       test   \n",
       "1         tweet  #dance #bad #miss #me #lol #funny #gracie (Vin...  @mainedcm   \n",
       "2         tweet  #dance #bad #miss #me #lol #funny #gracie (Vin...       none   \n",
       "3         tweet                       #lol https://t.co/uTq0P40u1J       none   \n",
       "4         tweet  @Calicuzn @NBA And of course with helped from ...       @NBA   \n",
       "\n",
       "   totalEvents  eventValue  \n",
       "0            3           0  \n",
       "1            1           7  \n",
       "2            1           7  \n",
       "3            1           1  \n",
       "4            1           2  "
      ]
     },
     "execution_count": 35,
     "metadata": {},
     "output_type": "execute_result"
    }
   ],
   "source": [
    "df.head()"
   ]
  },
  {
   "cell_type": "code",
   "execution_count": 36,
   "metadata": {},
   "outputs": [
    {
     "data": {
      "text/plain": [
       "283"
      ]
     },
     "execution_count": 36,
     "metadata": {},
     "output_type": "execute_result"
    }
   ],
   "source": [
    "sum(df['totalEvents'])"
   ]
  },
  {
   "cell_type": "code",
   "execution_count": 39,
   "metadata": {},
   "outputs": [
    {
     "data": {
      "text/plain": [
       "eventCategory    121\n",
       "eventAction      121\n",
       "eventLabel       121\n",
       "totalEvents      121\n",
       "eventValue       121\n",
       "dtype: int64"
      ]
     },
     "execution_count": 39,
     "metadata": {},
     "output_type": "execute_result"
    }
   ],
   "source": [
    "df.count()"
   ]
  },
  {
   "cell_type": "code",
   "execution_count": 44,
   "metadata": {},
   "outputs": [],
   "source": [
    "tweets = df['eventAction']"
   ]
  },
  {
   "cell_type": "code",
   "execution_count": 52,
   "metadata": {},
   "outputs": [],
   "source": [
    "df_list = df['eventAction'].tolist()"
   ]
  },
  {
   "cell_type": "code",
   "execution_count": 53,
   "metadata": {},
   "outputs": [
    {
     "data": {
      "text/plain": [
       "list"
      ]
     },
     "execution_count": 53,
     "metadata": {},
     "output_type": "execute_result"
    }
   ],
   "source": [
    "type(df_list)"
   ]
  },
  {
   "cell_type": "code",
   "execution_count": 54,
   "metadata": {},
   "outputs": [
    {
     "data": {
      "text/plain": [
       "['start',\n",
       " '#dance #bad #miss #me #lol #funny #gracie (Vine by Gracie Ann Wilson) https://t.co/kZwIRTus9o',\n",
       " '#dance #bad #miss #me #lol #funny #gracie (Vine by Gracie Ann Wilson) https://t.co/kZwIRTus9o',\n",
       " '#lol https://t.co/uTq0P40u1J',\n",
       " '@Calicuzn @NBA And of course with helped from zebra uniform #LOL #SmH https://t.co/LqYgaCYgLs',\n",
       " '@DREW_certified Lol.. Yes we will',\n",
       " '@jacekleski #LOL',\n",
       " 'But Obama said we are not to question each others patriotism httpstcoy2MVCv0FZA',\n",
       " 'CNN brianstelter And yet dozens of leftist jokes about Trump his wife and Sarah Sanders get glossed over U peop httpstcopgkgQVY8vW',\n",
       " 'Cannabis News Network presents Mikki Norris and Chris Conrad Their Story part 6 Trump and Sessions whats next httpstcoLNwMiEIhKs',\n",
       " 'City Park shooting victim says police are treating him like suspect httpstcoL1K0bhu40t',\n",
       " 'Cold water towel supplying on streetsKarachi Heatwave httpstco1YCgR720Ai',\n",
       " 'Cold water towel supplying on streetsKarachi Heatwave httpstco1YCgR720Ai',\n",
       " 'DamesNo coverups in policeinvolved shooting httpstcohEcCleBwgG',\n",
       " 'Follow Sunnah pakistanisoghat ramzan overseas gifts sharelove httpstcoCSwGVjAMsP',\n",
       " 'Follow Sunnah pakistanisoghat ramzan overseas gifts sharelove httpstcoCtdtM14SI1',\n",
       " 'Georgia is suffering today after fatal shooting POTUS stop the bloodshed BackfireTrump httpstcoUHNk4k09mB',\n",
       " 'Georgia is suffering today after fatal shooting POTUS stop the bloodshed BackfireTrump httpstcocpC1xoUJcL',\n",
       " 'GoogleAusEdQld schools open despite shooting threat The Australian httpstcoxzYMF3xu91',\n",
       " 'GuyHurwitz kenthehorse SamiRamadani1 twinKammo But you are shooting people on their land If you moved the wall httpstco3KvO6Msf5a',\n",
       " 'Head on over to our Instagram stories for more outdoor tile inspiration httpstcoAtojym5wSfLots of new httpstcoTvCn3vLhxX',\n",
       " 'I feel like less of a weakling after hearing my Jamaica grandmother cant stand this fucking humidity either heatwave',\n",
       " 'I look through Twitters nobody talks about murders rapist People stealing School shooting everybody talks about racist that is so sad',\n",
       " 'INN SHA ALLAH we stand with Sir ImranKhan httpstcoiPJCKjR1OW',\n",
       " 'India has LoC and Kashmir insurgency fairly under control The appointment of an interlocutor and declaration of httpstcosi2mf4sHaK',\n",
       " 'Its almost 44 C Temperature in Karachi Salute to these people who are doing their duties and jobs outside in th httpstcow8DS6pHK2W',\n",
       " 'Just published a new article Hot Sleepless Nights httpstcoZvbSND6vi7 Life Cold HeatWave httpstcoMrGVDpVeQS',\n",
       " 'JvdLD deputybradlaw Arent they the salmon trousers of a lawyer Maybe a checked shirt and shooting gillet to go with',\n",
       " 'KElectricPk fixitpak MianSaqibNisar CMSindhOfficial 44C temp amp No light AgainnnnnKElectricPk i want a valid httpstcoHthsjv92ed',\n",
       " 'Maaya actress shamasikander trolled for posting bikini picture during Ramzan httpstcoffc8YRXaJ9',\n",
       " 'Moss Bluff Middle School honors 14yearold Warren Wimberly who passed away Saturday after being shot in the chest httpstcomNCr0gb1pD',\n",
       " 'Nowplaying Shooting Stars httpstcoYwQxDClFUd',\n",
       " 'POTUS News The Note Trump creating own realities in campaign News HeadlineNews httpstcoXZEfCBqRQS',\n",
       " 'Parents',\n",
       " 'RT 1200WOAI An SAPD officer is in critical condition after being shot six times in a northwest side parking lot httpstcos8Ba84bh3m',\n",
       " 'RT @OhLookItsAmiel: @JYwalking Ganyan dapat #NoH8Rz #jHyrAh010 #LOL https://t.co/yd2VpZCZb1',\n",
       " 'RT @janeevakaila: This day last week @mainedcm #mishu #lol https://t.co/MqglqekUm6',\n",
       " 'RT @marshawright: Mmmm one of the many things we all have in common! #quote #thoughts #lol #complicated https://t.co/SQXY8xR7ia',\n",
       " 'RT AEerren3 Never mind Jarretts ties to Iran her father father in law and Obamas mentor Frank Marshall Davis were radical communist',\n",
       " 'RT ARMYIndonesiaa Episode BTS Euphoria Theme of LOVE YOURSELF Wonder Shooting Sketch owl httpstcoEzRW82Qkg4',\n",
       " 'RT AajKamranKhan Somersault is the word best to describe PTIs sudden back tracking on Nasir Khosa for care taker CM PunjabUnimaginable',\n",
       " 'RT AmyMek MEDIA BLACKOUT 3 US Imams have called for DEATH of Jews Since Trumps Jerusalem AnnouncementNorth Carolina IMAM Je',\n",
       " 'RT BBCWorld Schoolshooting video game sale pulled httpstcoAHLTEh2uvb',\n",
       " 'RT BeckyxDee Shooting for GlamWorship today with the lovely MaccaGlamTog httpstco7yJEHhkAXH',\n",
       " 'RT BostonSchools Yesterday students from Marjory Stoneman Douglas High in Parkland FL met with members of the Boston Student Advisory C',\n",
       " 'RT CNNPolitics President Trump says without proof that the Mueller team will meddle in midterm elections httpstco817b6LkVvg https',\n",
       " 'RT CoreyLMJones Kathy Griffin held up a bloody severed effigy of TrumpMichele Wolf attacked the appearance of Sarah SandersSnoop D',\n",
       " 'RT Emilyreilly123 PalmerReport Observer142 Gowdy didnt sell Trump out Gowdy wants to work in the Judicial system So this is him walk',\n",
       " 'RT HaleemAdil Attending Core Group meeting presided by chairman Imran khan from Insaf house Karachi via video link httpstconR51PC1w',\n",
       " 'RT IMVoyager Experiencing Ramadan Food Walk in Hyderabad India httpstcoCpT7z7tI8x travel Hyderabad Telangana NovotelHydAirport',\n",
       " 'RT IWillRedPillU Senator Chuck Grassley RIA Fusion GPS Simpson LIED On Working Against Trump After Election ChuckGrassley DevinNun',\n",
       " 'RT InfamousP Gucci telling Jeezy to dig his dead homie upTI shooting Whats Up Whats Happening in Shawty Los projectsCamron sayin',\n",
       " 'RT IngrahamAngle Andy McCarthy is here next to tell us why he believes team Obama spied on the Trump campaign And more and more FBI agen',\n",
       " 'RT ItsMeCathi BREAKING At least 4645 people died in Puerto Rico due to Hurricane Maria according to a new study from Harvard These',\n",
       " 'RT JaclynCorin THIS IS DISGUSTING Valve Corporation of Bellevue is launching a video game on June 6th thats a school shooting simulator',\n",
       " 'RT JalilAdDinRehm2 Infidels think teleportation is not possiblebut our islamic scientist have invented a vest which can actually telepor',\n",
       " 'RT Jillibean557 Roseannes Producer Wanda Sykes Caught Calling Pres Trump An Orangutan httpstcoOQNyugDWWh via WayneDupreeShow',\n",
       " 'RT Joette56123293 RonWyden StageYaneu Money in Trumps pocket of course',\n",
       " 'RT KoblerinPAK great idea during the heatwave its very important to provide birds with drinking water this is at our embassy everyon',\n",
       " 'RT KrisParonto I remember it was before your generation started shooting up the schools David even though we still had guns Thank you',\n",
       " 'RT LaurenWern Melanie did not attend the Memorial Day wreathing event at a military cemetery w Trump She hasnt been seen in public for',\n",
       " 'RT Layogi Mexican President Sends Trump A Blunt Message About Paying For The Wall HuffPost httpstcoIU21CU9wBB',\n",
       " 'RT LearnQuranonl',\n",
       " 'RT MMFlint So therealroseanne woke up this morning amp posted hateful slanderous tweets about me Valerie Jarrett George Soros amp Chelsea',\n",
       " 'RT MRevereUSA This is the REAL reason therealroseanne show got cancelled They were just waiting for a reason to remove a BIG platform',\n",
       " 'RT MZHemingway To put the matter more succinctly We know why it is claimed that Halper was a spy we still do not know why it was claim',\n",
       " 'RT MarkDice Roseanne head writer iamWandaSykes who quit the show today over her ape comment before it was canceled compared Presiden',\n",
       " 'RT MarkSimoneNY Can Roseanne ever come back to network TV Alec Baldwin was able to after scandals involving racist comments antigay sl',\n",
       " 'RT NewDay While shes claiming that shes lost her job because of her Trump support the reality is she only received this job because',\n",
       " 'RT OSDDigital Loving this heatwave in sligo right now lets make the most of it Heres Some pics from yesterday in rossespoint and ba',\n",
       " 'RT RealJack Let me break this down very simply So liberals can try to comprehendObama amp Comey protected Hillary thinking shed win',\n",
       " 'RT RealSaavedra New York Times reporter claims that Trump is infecting children httpstcoXHl4HIYwpg',\n",
       " 'RT RepMaxineWaters ConManDon is so quick to condemn athletes peacefully protesting police misconduct but Trump said nothing when Rosean',\n",
       " 'RT SandraTXAS Lying RyanCNNs April Ryan slammed for tweeting article about Trump running childtrafficking ring httpstco5fN4qu4',\n",
       " 'RT SebGorka TGowdySC failed catastrophically in bringing Hillary to book during the Benghazi hearings Now hes covering for a corrup',\n",
       " 'RT Sujataraje2 AllahKabirRamzan',\n",
       " 'RT SulemanSharif82 Imran Khan you have made a joke of everything you are the enemy of the state and the system httpstcohKPIVoXRmr',\n",
       " 'RT TheLadyMilana time to go shootinganyone up for a cashmeet in berlinFinDommes FemdomDaily OWKreal RT4fet FindomToday rtloser',\n",
       " 'RT TheTrumpTrain Who plans on watching President Trumps rally in Nashville tonight',\n",
       " 'RT Thomas1774Paine Meet Valerie Jarrett One of Chicagos Biggest Slum Lords Profited from GhettoProperty Scheme Backed by State Senato',\n",
       " 'RT WellRegulated A member of our well regulated militia shoots a rifle at targets with his girlfriends 12 year old daughter he uninte',\n",
       " 'RT ZaheerAhmed69 Heatwave heatstroke',\n",
       " 'RT aarond DavidLMatthews ljbren Mabuckley88 Madeline I have a video of people yelling and fleeing the scene in a vehicle moments after',\n",
       " 'RT ahmedmasood12 Explore the 10 beautiful Ramzan traditions from around the world with the unique flavors of each countrymhabibha',\n",
       " 'RT ajmclean Such an amazing day of shooting I cannot wait to share this amazing footage with all of you June 5 at my party during CMA fe',\n",
       " 'RT bangtanitl BTS EpisodeBTS Euphoria Theme of Love Yourself Wonder ShootinghttpstcovvDSbZYePiBTStwt httpstcoPkU3uL',\n",
       " 'RT bbusa617 VALERIE JARRETT STANFORD YEARBOOK I Was Born Iranian Of My Islamic Faith I Seek To Help Change America To Be A More Islami',\n",
       " 'RT charliekirk11 This is the unbelievable mess Trump inherited from Obama National Debt 2009106 trillion 201720 trillion A',\n",
       " 'RT equipedefrance Shooting photos pour les Bleus Clairefontaine httpstcoYkxe50vAPI',\n",
       " 'RT gelles WaPo The number of migrant children held in US government custody without their parents has surged 21 percent in the past m',\n",
       " 'RT girlgroupzone OFFICIAL 180530 LOONA yyxy beautyampthebeat Jacket Shooting Behind more photos httpstcoawPEYzXJWe httpstc',\n",
       " 'RT globeandmail Belgium shooting rampage was terrorist act prosecutors say httpstcoRBUVaxKWiw httpstcoVJrrwSzEPf',\n",
       " 'RT letgobestill This is the mild stuff stay tunedMeet Valerie Jarrett One of Chicagos Biggest Slum Lords Profited from GhettoPr',\n",
       " 'RT mahwishzafar7 DunyaNews Imran Khan is a Donald Trump of Pakistan maturity and wisdom less person how to run Pakistan',\n",
       " 'RT mckaycoppins Ive spent the past couple months working on this profile of Stephen Miller Donald Trumps top speechwriter immigration',\n",
       " 'RT rameshlaus Fakir Movie Premiere',\n",
       " 'RT seokjinstapes The funniest and most fluffy boy love him so much Jin Cut Euphoria Theme of LOVE YOURSELF Wonder Shooting https',\n",
       " 'RT thehill Judge rules Trump broke law by defunding Teen Pregnancy Prevention Program orders funding to resume httpstcoEcg621Mbpq h',\n",
       " 'RT tonyarmbrust I now expect a rambling unhinged tweet from Trump on how ObamaHillarythe Dark WebInternational BankersBlack Lives',\n",
       " 'RT yusufVI Obamas admin abused immigrants Pelosi is openly antichoice Schumer doesnt recognize Palestines right to exist Hillary',\n",
       " 'Retweet if you love the Indoors during Summer What would be your typical Summer weekend activity this Ramzan httpstcoZ1sEwednQb',\n",
       " 'Roje sanga de friendsBaran neshta YarRamzan',\n",
       " 'School shooting game Active Shooter pulled by Steam httpstcoCrUox3bbo6',\n",
       " 'Send Special Gifts from Pakistan to your Overseas and Local relatives this Ramzan and show your Love for them httpstcoyOBi0nuCwA',\n",
       " 'Shooting in Georgia just took an American life POTUS please do something BackfireTrump httpstco3oJLz5R6wU',\n",
       " 'Shooting in Georgia just took an American life POTUS please do something BackfireTrump httpstcoGZobxNl0kJ',\n",
       " 'Sports News Trump promoting youth sports with event on South Lawn News HeadlineNews httpstcolfyRZiKLa8',\n",
       " 'This Kashmiri Chicken Curry Recipe will be an all time winner at any party httpstco4YZq2uxNM8 Ramzan Iftaar httpstcoQ4et885p8a',\n",
       " 'This is a test tweet #tw',\n",
       " 'This made my day! #FashionAtWork #lol #rofl #lmao #thingswomenwear https://t.co/l5JZxUUwqd',\n",
       " 'WayneDupreeShow If they thought the Russians were meddling then they should have notified the Trump campaign and httpstcoGQO5xJPm8n',\n",
       " 'We applaud Trumps hard work even in states he carried bc he is prudentWe call him out too',\n",
       " 'Zoninov JoeyCortese45 Yes Im shooting condoms onto people so they dont make mistakes',\n",
       " 'aasiaishaque httpstcoswQBXqKXfi',\n",
       " 'brithume All these people I used to like revealing their true colors Hume is just another FoxTrump shill willing httpstcoqztIUowFxn',\n",
       " 'iamsrk Something to wake up Play it loud Big smile amp happy shooting Hope its going on as smoothly as it should httpstcoTJoYyAnmWI',\n",
       " 'jbuckenmeyer photospice kdevil66 JohnFugelsang Are you really defending trump and decrying insults at the same httpstcoierNYVBPZO',\n",
       " 'letting kids bring guns to school is absolutely going to solve the problem of kids shooting up schools with guns',\n",
       " 'qbass187 rjc5273 gehrig38 PeighSmellis chetlee03 BetaSnowflake Another Obama apologist backing up the only pr httpstcogXBtckxhnP',\n",
       " 'realdonaldtrump Fox News Anchor Demolishes Trumps Tweet As Not Based In Fact httpstco6vZ1ApgfEJ',\n",
       " 'start']"
      ]
     },
     "execution_count": 54,
     "metadata": {},
     "output_type": "execute_result"
    }
   ],
   "source": [
    "df_list"
   ]
  },
  {
   "cell_type": "code",
   "execution_count": 55,
   "metadata": {},
   "outputs": [],
   "source": [
    "tweet_list = []\n",
    "\n",
    "for twt in df_list:\n",
    "    tok = []\n",
    "    for v in twt.split(' '):\n",
    "        v = v.lower()\n",
    "        tok.append(v)\n",
    "    tweet_list.append(tok)"
   ]
  },
  {
   "cell_type": "code",
   "execution_count": 57,
   "metadata": {},
   "outputs": [],
   "source": [
    "from gensim.models import Word2Vec\n"
   ]
  },
  {
   "cell_type": "code",
   "execution_count": 84,
   "metadata": {},
   "outputs": [],
   "source": [
    "model = Word2Vec(tweet_list, min_count=1, size=3)\n"
   ]
  },
  {
   "cell_type": "code",
   "execution_count": 92,
   "metadata": {},
   "outputs": [
    {
     "name": "stdout",
     "output_type": "stream",
     "text": [
      "-0.49804519043168577\n"
     ]
    }
   ],
   "source": [
    "print(model.wv.similarity('Trump', 'President'))\n"
   ]
  },
  {
   "cell_type": "code",
   "execution_count": 81,
   "metadata": {},
   "outputs": [
    {
     "ename": "RuntimeError",
     "evalue": "We have currently only implemented score for the hierarchical softmax scheme, so you need to have run word2vec with hs=1 and negative=0 for this to work.",
     "output_type": "error",
     "traceback": [
      "\u001b[0;31m---------------------------------------------------------------------------\u001b[0m",
      "\u001b[0;31mRuntimeError\u001b[0m                              Traceback (most recent call last)",
      "\u001b[0;32m<ipython-input-81-ef85eb821a7f>\u001b[0m in \u001b[0;36m<module>\u001b[0;34m()\u001b[0m\n\u001b[0;32m----> 1\u001b[0;31m \u001b[0mmodel\u001b[0m\u001b[0;34m.\u001b[0m\u001b[0mscore\u001b[0m\u001b[0;34m(\u001b[0m\u001b[0;34m[\u001b[0m\u001b[0;34m\"#ramzan heat\"\u001b[0m\u001b[0;34m.\u001b[0m\u001b[0msplit\u001b[0m\u001b[0;34m(\u001b[0m\u001b[0;34m)\u001b[0m\u001b[0;34m]\u001b[0m\u001b[0;34m)\u001b[0m\u001b[0;34m\u001b[0m\u001b[0m\n\u001b[0m",
      "\u001b[0;32m/usr/local/lib/python2.7/dist-packages/gensim/models/word2vec.pyc\u001b[0m in \u001b[0;36mscore\u001b[0;34m(self, sentences, total_sentences, chunksize, queue_factor, report_delay)\u001b[0m\n\u001b[1;32m    664\u001b[0m         \u001b[0;32mif\u001b[0m \u001b[0;32mnot\u001b[0m \u001b[0mself\u001b[0m\u001b[0;34m.\u001b[0m\u001b[0mhs\u001b[0m\u001b[0;34m:\u001b[0m\u001b[0;34m\u001b[0m\u001b[0m\n\u001b[1;32m    665\u001b[0m             raise RuntimeError(\n\u001b[0;32m--> 666\u001b[0;31m                 \u001b[0;34m\"We have currently only implemented score for the hierarchical softmax scheme, \"\u001b[0m\u001b[0;34m\u001b[0m\u001b[0m\n\u001b[0m\u001b[1;32m    667\u001b[0m                 \u001b[0;34m\"so you need to have run word2vec with hs=1 and negative=0 for this to work.\"\u001b[0m\u001b[0;34m\u001b[0m\u001b[0m\n\u001b[1;32m    668\u001b[0m             )\n",
      "\u001b[0;31mRuntimeError\u001b[0m: We have currently only implemented score for the hierarchical softmax scheme, so you need to have run word2vec with hs=1 and negative=0 for this to work."
     ]
    }
   ],
   "source": [
    "model.score([\"#ramzan heat\".split()])"
   ]
  },
  {
   "cell_type": "code",
   "execution_count": null,
   "metadata": {},
   "outputs": [],
   "source": []
  }
 ],
 "metadata": {
  "kernelspec": {
   "display_name": "Python 2",
   "language": "python",
   "name": "python2"
  },
  "language_info": {
   "codemirror_mode": {
    "name": "ipython",
    "version": 2
   },
   "file_extension": ".py",
   "mimetype": "text/x-python",
   "name": "python",
   "nbconvert_exporter": "python",
   "pygments_lexer": "ipython2",
   "version": "2.7.12"
  }
 },
 "nbformat": 4,
 "nbformat_minor": 2
}
